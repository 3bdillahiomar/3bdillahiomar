{
  "cells": [
    {
      "cell_type": "markdown",
      "metadata": {
        "id": "view-in-github",
        "colab_type": "text"
      },
      "source": [
        "<a href=\"https://colab.research.google.com/github/3bdillahiomar/3bdillahiomar/blob/main/01_Geocoding_Geopy.ipynb\" target=\"_parent\"><img src=\"https://colab.research.google.com/assets/colab-badge.svg\" alt=\"Open In Colab\"/></a>"
      ]
    },
    {
      "cell_type": "markdown",
      "id": "b5fbbeb2-a52f-430e-bba4-b2417fc5e48b",
      "metadata": {
        "id": "b5fbbeb2-a52f-430e-bba4-b2417fc5e48b"
      },
      "source": [
        "## PYTHON FOUNDATION FOR SPATIAL ANALYSIS"
      ]
    },
    {
      "cell_type": "markdown",
      "id": "8724ebcb-3e23-4975-955d-f3c9115d6d0b",
      "metadata": {
        "id": "8724ebcb-3e23-4975-955d-f3c9115d6d0b"
      },
      "source": [
        "## FINAL PROJECT - GEOCODING"
      ]
    },
    {
      "cell_type": "markdown",
      "id": "3850ca12-1c35-499f-8098-5d224433287b",
      "metadata": {
        "tags": [],
        "id": "3850ca12-1c35-499f-8098-5d224433287b"
      },
      "source": [
        "Geocoding is the process of converting a physical address or location, such as a street address or landmark, into geographic coordinates, typically latitude and longitude. This allows the location to be plotted on a map and used in various applications and analyses, such as mapping, navigation, and geospatial analysis."
      ]
    },
    {
      "cell_type": "markdown",
      "id": "c23c1033-ab96-47bb-b506-7ff565cc8ade",
      "metadata": {
        "id": "c23c1033-ab96-47bb-b506-7ff565cc8ade"
      },
      "source": [
        "## PROBLEM STATEMENT"
      ]
    },
    {
      "cell_type": "markdown",
      "id": "f2fc1dc9-e9e4-4c90-b50b-c5d165f9ff00",
      "metadata": {
        "id": "f2fc1dc9-e9e4-4c90-b50b-c5d165f9ff00"
      },
      "source": [
        "The problem statement for the  project is given a list of mall addresses in Putrajaya, Cyberjaya, Kajang, and Bandar Bangi in Selangor, Malaysia.\n",
        "How can we use geocoding with Geopy to obtain their respective latitude and longitude coordinates?"
      ]
    },
    {
      "cell_type": "markdown",
      "id": "9a195110-96c5-4b02-a434-576aef8129bb",
      "metadata": {
        "id": "9a195110-96c5-4b02-a434-576aef8129bb"
      },
      "source": [
        "## STEP 1 - GATHERING ADDRESSES"
      ]
    },
    {
      "cell_type": "markdown",
      "id": "94445478-c371-4c1e-ba1a-54f9e4840667",
      "metadata": {
        "tags": [],
        "id": "94445478-c371-4c1e-ba1a-54f9e4840667"
      },
      "source": [
        "Gather a list of mall addresses in the whole locations mentioned above. This has been done manually by searching for mall addresses online."
      ]
    },
    {
      "cell_type": "code",
      "execution_count": null,
      "id": "33d85b9a-f5b6-4667-98a0-45d4f94bccf8",
      "metadata": {
        "tags": [],
        "id": "33d85b9a-f5b6-4667-98a0-45d4f94bccf8"
      },
      "outputs": [],
      "source": [
        "import csv\n",
        "import pandas as pd"
      ]
    },
    {
      "cell_type": "code",
      "execution_count": 1,
      "id": "4b6a3abe-f35d-4e76-a6e7-60f942832689",
      "metadata": {
        "tags": [],
        "id": "4b6a3abe-f35d-4e76-a6e7-60f942832689"
      },
      "outputs": [],
      "source": [
        "import os\n",
        "data_pkg_path = r\"C:\\Users\\Zako3\\Downloads\\malls.xlsx\"\n",
        "filename = 'malls.xlsx'\n",
        "path = os.path.join(data_pkg_path, filename)"
      ]
    },
    {
      "cell_type": "code",
      "execution_count": 2,
      "id": "6d5109c4-e97b-499f-8730-5e4602ba4ab4",
      "metadata": {
        "tags": [],
        "colab": {
          "base_uri": "https://localhost:8080/",
          "height": 36
        },
        "id": "6d5109c4-e97b-499f-8730-5e4602ba4ab4",
        "outputId": "7d83afec-38cd-49ec-cd89-7075d5f81b64"
      },
      "outputs": [
        {
          "output_type": "execute_result",
          "data": {
            "text/plain": [
              "'C:\\\\Users\\\\Zako3\\\\Downloads\\\\malls.xlsx/malls.xlsx'"
            ],
            "application/vnd.google.colaboratory.intrinsic+json": {
              "type": "string"
            }
          },
          "metadata": {},
          "execution_count": 2
        }
      ],
      "source": [
        "path\n"
      ]
    },
    {
      "cell_type": "markdown",
      "id": "46edf06c-42f4-4bea-b6a0-3d2a677883fe",
      "metadata": {
        "id": "46edf06c-42f4-4bea-b6a0-3d2a677883fe"
      },
      "source": [
        "## STEP 2 - INSTALL GEOPY"
      ]
    },
    {
      "cell_type": "markdown",
      "id": "e045e0aa-1300-4200-8a44-f9c953def429",
      "metadata": {
        "id": "e045e0aa-1300-4200-8a44-f9c953def429"
      },
      "source": [
        "Use Geopy's geocoding functionality to convert the mall addresses to their respective latitude and longitude coordinates."
      ]
    },
    {
      "cell_type": "code",
      "execution_count": null,
      "id": "0b8fdb05-a3aa-4bbf-b63d-3d4ed82e1d79",
      "metadata": {
        "tags": [],
        "id": "0b8fdb05-a3aa-4bbf-b63d-3d4ed82e1d79"
      },
      "outputs": [],
      "source": [
        "import geopy"
      ]
    },
    {
      "cell_type": "code",
      "execution_count": null,
      "id": "3ea48a9c-91d6-4937-b61d-35810dbab074",
      "metadata": {
        "tags": [],
        "id": "3ea48a9c-91d6-4937-b61d-35810dbab074",
        "outputId": "601750c1-4481-4384-cbc3-0dc934e72cf5"
      },
      "outputs": [
        {
          "data": {
            "text/plain": [
              "['AlgoliaPlaces',\n",
              " 'ArcGIS',\n",
              " 'AzureMaps',\n",
              " 'BANFrance',\n",
              " 'Baidu',\n",
              " 'BaiduV3',\n",
              " 'Bing',\n",
              " 'DataBC',\n",
              " 'GeoNames',\n",
              " 'GeocodeEarth',\n",
              " 'Geocodio',\n",
              " 'Geolake',\n",
              " 'GoogleV3',\n",
              " 'Here',\n",
              " 'HereV7',\n",
              " 'IGNFrance',\n",
              " 'LiveAddress',\n",
              " 'Location',\n",
              " 'MapBox',\n",
              " 'MapQuest',\n",
              " 'MapTiler',\n",
              " 'Nominatim',\n",
              " 'OpenCage',\n",
              " 'OpenMapQuest',\n",
              " 'Pelias',\n",
              " 'Photon',\n",
              " 'PickPoint',\n",
              " 'Point',\n",
              " 'Timezone',\n",
              " 'TomTom',\n",
              " 'What3Words',\n",
              " 'What3WordsV3',\n",
              " 'Yandex',\n",
              " '__builtins__',\n",
              " '__cached__',\n",
              " '__doc__',\n",
              " '__file__',\n",
              " '__loader__',\n",
              " '__name__',\n",
              " '__package__',\n",
              " '__path__',\n",
              " '__spec__',\n",
              " '__version__',\n",
              " '__version_info__',\n",
              " 'adapters',\n",
              " 'compat',\n",
              " 'exc',\n",
              " 'extra',\n",
              " 'format',\n",
              " 'geocoders',\n",
              " 'get_geocoder_for_service',\n",
              " 'get_version',\n",
              " 'location',\n",
              " 'point',\n",
              " 'timezone',\n",
              " 'units',\n",
              " 'util']"
            ]
          },
          "execution_count": 105,
          "metadata": {},
          "output_type": "execute_result"
        }
      ],
      "source": [
        "dir(geopy)"
      ]
    },
    {
      "cell_type": "markdown",
      "id": "014ac6a2-9df9-49c6-832f-1c3f66b893cc",
      "metadata": {
        "tags": [],
        "id": "014ac6a2-9df9-49c6-832f-1c3f66b893cc"
      },
      "source": [
        "### List of Mall Names and Address"
      ]
    },
    {
      "cell_type": "markdown",
      "id": "883f2edb-af85-48aa-a8c3-28d4c16930b2",
      "metadata": {
        "id": "883f2edb-af85-48aa-a8c3-28d4c16930b2"
      },
      "source": [
        "## STEP 3 - PANDAS DATAFRAME"
      ]
    },
    {
      "cell_type": "markdown",
      "id": "473f000a-e6cb-483a-94d3-3071a3f3f1a1",
      "metadata": {
        "id": "473f000a-e6cb-483a-94d3-3071a3f3f1a1"
      },
      "source": [
        "##### Creating a Pandas dataframe is important because it allows you to organize and manipulate data in a structured manner."
      ]
    },
    {
      "cell_type": "code",
      "execution_count": null,
      "id": "15c26f69-f780-4773-b779-a87f882a9428",
      "metadata": {
        "tags": [],
        "id": "15c26f69-f780-4773-b779-a87f882a9428",
        "outputId": "aed04462-2d2b-4877-b127-e86a79a7c095"
      },
      "outputs": [
        {
          "data": {
            "text/html": [
              "<div>\n",
              "<style scoped>\n",
              "    .dataframe tbody tr th:only-of-type {\n",
              "        vertical-align: middle;\n",
              "    }\n",
              "\n",
              "    .dataframe tbody tr th {\n",
              "        vertical-align: top;\n",
              "    }\n",
              "\n",
              "    .dataframe thead th {\n",
              "        text-align: right;\n",
              "    }\n",
              "</style>\n",
              "<table border=\"1\" class=\"dataframe\">\n",
              "  <thead>\n",
              "    <tr style=\"text-align: right;\">\n",
              "      <th></th>\n",
              "      <th>Mall Names</th>\n",
              "      <th>Address</th>\n",
              "    </tr>\n",
              "  </thead>\n",
              "  <tbody>\n",
              "    <tr>\n",
              "      <th>0</th>\n",
              "      <td>Alamanda Shopping Centre</td>\n",
              "      <td>Jalan Alamanda, Presint 1, 62000 Putrajaya, Wi...</td>\n",
              "    </tr>\n",
              "    <tr>\n",
              "      <th>1</th>\n",
              "      <td>IOI City Mall Putrajaya</td>\n",
              "      <td>XP96+VJ, IOI Resort, 43000 Seri Kembangan, Sel...</td>\n",
              "    </tr>\n",
              "    <tr>\n",
              "      <th>2</th>\n",
              "      <td>Suria Mall Putrajaya</td>\n",
              "      <td>Jalan Tun Abdul Razak, Presint 3, 62100 Putrajaya</td>\n",
              "    </tr>\n",
              "    <tr>\n",
              "      <th>3</th>\n",
              "      <td>D’Pulze Shopping Centre</td>\n",
              "      <td>Persiaran Multimedia, Cyberjaya, 63000 Cyberja...</td>\n",
              "    </tr>\n",
              "    <tr>\n",
              "      <th>4</th>\n",
              "      <td>Gem In Mall</td>\n",
              "      <td>Persiaran Sepang, Cyber 11, 63000 Cyberjaya, S...</td>\n",
              "    </tr>\n",
              "    <tr>\n",
              "      <th>5</th>\n",
              "      <td>Shaftsbury Square</td>\n",
              "      <td>Shaftsbury Square, Persiaran Multimedia, Cyber...</td>\n",
              "    </tr>\n",
              "    <tr>\n",
              "      <th>6</th>\n",
              "      <td>Malakat Mall (formerly Centrus Mall)</td>\n",
              "      <td>Lingkaran Cyber Point Timur, Cyberjaya, 63000 ...</td>\n",
              "    </tr>\n",
              "    <tr>\n",
              "      <th>7</th>\n",
              "      <td>Bangi Gateway</td>\n",
              "      <td>Seksyen 15, 43650 Bandar Baru Bangi, Selangor</td>\n",
              "    </tr>\n",
              "    <tr>\n",
              "      <th>8</th>\n",
              "      <td>De Centrum City</td>\n",
              "      <td>Jalan Ikram Uniten, 43000 Kajang, Selangor</td>\n",
              "    </tr>\n",
              "    <tr>\n",
              "      <th>9</th>\n",
              "      <td>Evo Bangi</td>\n",
              "      <td>Jalan Medan 2D, Seksyen 9, 43650 Bandar Baru B...</td>\n",
              "    </tr>\n",
              "    <tr>\n",
              "      <th>10</th>\n",
              "      <td>KIP Mall Bangi</td>\n",
              "      <td>Jalan Medan Bangi, Seksyen 6, 43650 Bandar Bar...</td>\n",
              "    </tr>\n",
              "    <tr>\n",
              "      <th>11</th>\n",
              "      <td>Metro Point Kajang</td>\n",
              "      <td>Jalan Jelok Indah 9, Taman Jelok Indah, 43000 ...</td>\n",
              "    </tr>\n",
              "    <tr>\n",
              "      <th>12</th>\n",
              "      <td>Plaza Metro Kajang</td>\n",
              "      <td>Jalan Tun Abdul Aziz, Seksyen 1, 43000 Kajang,...</td>\n",
              "    </tr>\n",
              "  </tbody>\n",
              "</table>\n",
              "</div>"
            ],
            "text/plain": [
              "                              Mall Names  \\\n",
              "0               Alamanda Shopping Centre   \n",
              "1                IOI City Mall Putrajaya   \n",
              "2                   Suria Mall Putrajaya   \n",
              "3                D’Pulze Shopping Centre   \n",
              "4                            Gem In Mall   \n",
              "5                      Shaftsbury Square   \n",
              "6   Malakat Mall (formerly Centrus Mall)   \n",
              "7                          Bangi Gateway   \n",
              "8                        De Centrum City   \n",
              "9                              Evo Bangi   \n",
              "10                        KIP Mall Bangi   \n",
              "11                    Metro Point Kajang   \n",
              "12                    Plaza Metro Kajang   \n",
              "\n",
              "                                              Address  \n",
              "0   Jalan Alamanda, Presint 1, 62000 Putrajaya, Wi...  \n",
              "1   XP96+VJ, IOI Resort, 43000 Seri Kembangan, Sel...  \n",
              "2   Jalan Tun Abdul Razak, Presint 3, 62100 Putrajaya  \n",
              "3   Persiaran Multimedia, Cyberjaya, 63000 Cyberja...  \n",
              "4   Persiaran Sepang, Cyber 11, 63000 Cyberjaya, S...  \n",
              "5   Shaftsbury Square, Persiaran Multimedia, Cyber...  \n",
              "6   Lingkaran Cyber Point Timur, Cyberjaya, 63000 ...  \n",
              "7       Seksyen 15, 43650 Bandar Baru Bangi, Selangor  \n",
              "8          Jalan Ikram Uniten, 43000 Kajang, Selangor  \n",
              "9   Jalan Medan 2D, Seksyen 9, 43650 Bandar Baru B...  \n",
              "10  Jalan Medan Bangi, Seksyen 6, 43650 Bandar Bar...  \n",
              "11  Jalan Jelok Indah 9, Taman Jelok Indah, 43000 ...  \n",
              "12  Jalan Tun Abdul Aziz, Seksyen 1, 43000 Kajang,...  "
            ]
          },
          "execution_count": 106,
          "metadata": {},
          "output_type": "execute_result"
        }
      ],
      "source": [
        "df = pd.DataFrame(names, columns = ['NAME OF MALL', 'Address'])\n",
        "df = pd.read_excel(path)\n",
        "df"
      ]
    },
    {
      "cell_type": "code",
      "execution_count": null,
      "id": "f9967a6f-f1d7-4191-8b3c-fe5854037d86",
      "metadata": {
        "id": "f9967a6f-f1d7-4191-8b3c-fe5854037d86",
        "outputId": "004090f4-e42f-418f-c057-f07a424a40d8"
      },
      "outputs": [
        {
          "data": {
            "text/html": [
              "<div>\n",
              "<style scoped>\n",
              "    .dataframe tbody tr th:only-of-type {\n",
              "        vertical-align: middle;\n",
              "    }\n",
              "\n",
              "    .dataframe tbody tr th {\n",
              "        vertical-align: top;\n",
              "    }\n",
              "\n",
              "    .dataframe thead th {\n",
              "        text-align: right;\n",
              "    }\n",
              "</style>\n",
              "<table border=\"1\" class=\"dataframe\">\n",
              "  <thead>\n",
              "    <tr style=\"text-align: right;\">\n",
              "      <th></th>\n",
              "      <th>Mall Names</th>\n",
              "      <th>Address</th>\n",
              "      <th>coordinates</th>\n",
              "      <th>Latitude</th>\n",
              "      <th>Longitude</th>\n",
              "    </tr>\n",
              "  </thead>\n",
              "  <tbody>\n",
              "    <tr>\n",
              "      <th>0</th>\n",
              "      <td>Alamanda Shopping Centre</td>\n",
              "      <td>Jalan Alamanda, Presint 1, 62000 Putrajaya, Wi...</td>\n",
              "      <td>(Jalan Alamanda, Presint 1, Putrajaya, 62000, ...</td>\n",
              "      <td>2.941014</td>\n",
              "      <td>101.712201</td>\n",
              "    </tr>\n",
              "    <tr>\n",
              "      <th>3</th>\n",
              "      <td>D’Pulze Shopping Centre</td>\n",
              "      <td>Persiaran Multimedia, Cyberjaya, 63000 Cyberja...</td>\n",
              "      <td>(Persiaran Multimedia, Cyber 12, Cyberjaya, Se...</td>\n",
              "      <td>2.921486</td>\n",
              "      <td>101.647333</td>\n",
              "    </tr>\n",
              "    <tr>\n",
              "      <th>4</th>\n",
              "      <td>Gem In Mall</td>\n",
              "      <td>Persiaran Sepang, Cyber 11, 63000 Cyberjaya, S...</td>\n",
              "      <td>(Persiaran Sepang, Cyber 9, Cyberjaya, Sepang,...</td>\n",
              "      <td>2.915851</td>\n",
              "      <td>101.634415</td>\n",
              "    </tr>\n",
              "    <tr>\n",
              "      <th>5</th>\n",
              "      <td>Shaftsbury Square</td>\n",
              "      <td>Shaftsbury Square, Persiaran Multimedia, Cyber...</td>\n",
              "      <td>(Shaftsbury Square Shop &amp; Retail, Persiaran Mu...</td>\n",
              "      <td>2.923262</td>\n",
              "      <td>101.660718</td>\n",
              "    </tr>\n",
              "    <tr>\n",
              "      <th>6</th>\n",
              "      <td>Malakat Mall (formerly Centrus Mall)</td>\n",
              "      <td>Lingkaran Cyber Point Timur, Cyberjaya, 63000 ...</td>\n",
              "      <td>(Lingkaran Cyber Point Timur, Cyber 12, Cyberj...</td>\n",
              "      <td>2.925146</td>\n",
              "      <td>101.649355</td>\n",
              "    </tr>\n",
              "    <tr>\n",
              "      <th>7</th>\n",
              "      <td>Bangi Gateway</td>\n",
              "      <td>Seksyen 15, 43650 Bandar Baru Bangi, Selangor</td>\n",
              "      <td>(Seksyen 15, Bandar Baru Bangi, Majlis Perband...</td>\n",
              "      <td>2.929863</td>\n",
              "      <td>101.768207</td>\n",
              "    </tr>\n",
              "    <tr>\n",
              "      <th>10</th>\n",
              "      <td>KIP Mall Bangi</td>\n",
              "      <td>Jalan Medan Bangi, Seksyen 6, 43650 Bandar Bar...</td>\n",
              "      <td>(Jalan Medan Bangi, Seksyen 16, Bandar Baru Ba...</td>\n",
              "      <td>2.952677</td>\n",
              "      <td>101.756885</td>\n",
              "    </tr>\n",
              "  </tbody>\n",
              "</table>\n",
              "</div>"
            ],
            "text/plain": [
              "                              Mall Names  \\\n",
              "0               Alamanda Shopping Centre   \n",
              "3                D’Pulze Shopping Centre   \n",
              "4                            Gem In Mall   \n",
              "5                      Shaftsbury Square   \n",
              "6   Malakat Mall (formerly Centrus Mall)   \n",
              "7                          Bangi Gateway   \n",
              "10                        KIP Mall Bangi   \n",
              "\n",
              "                                              Address  \\\n",
              "0   Jalan Alamanda, Presint 1, 62000 Putrajaya, Wi...   \n",
              "3   Persiaran Multimedia, Cyberjaya, 63000 Cyberja...   \n",
              "4   Persiaran Sepang, Cyber 11, 63000 Cyberjaya, S...   \n",
              "5   Shaftsbury Square, Persiaran Multimedia, Cyber...   \n",
              "6   Lingkaran Cyber Point Timur, Cyberjaya, 63000 ...   \n",
              "7       Seksyen 15, 43650 Bandar Baru Bangi, Selangor   \n",
              "10  Jalan Medan Bangi, Seksyen 6, 43650 Bandar Bar...   \n",
              "\n",
              "                                          coordinates  Latitude   Longitude  \n",
              "0   (Jalan Alamanda, Presint 1, Putrajaya, 62000, ...  2.941014  101.712201  \n",
              "3   (Persiaran Multimedia, Cyber 12, Cyberjaya, Se...  2.921486  101.647333  \n",
              "4   (Persiaran Sepang, Cyber 9, Cyberjaya, Sepang,...  2.915851  101.634415  \n",
              "5   (Shaftsbury Square Shop & Retail, Persiaran Mu...  2.923262  101.660718  \n",
              "6   (Lingkaran Cyber Point Timur, Cyber 12, Cyberj...  2.925146  101.649355  \n",
              "7   (Seksyen 15, Bandar Baru Bangi, Majlis Perband...  2.929863  101.768207  \n",
              "10  (Jalan Medan Bangi, Seksyen 16, Bandar Baru Ba...  2.952677  101.756885  "
            ]
          },
          "execution_count": 107,
          "metadata": {},
          "output_type": "execute_result"
        }
      ],
      "source": [
        "df1"
      ]
    },
    {
      "cell_type": "markdown",
      "id": "653aee1d-29e1-44b8-bda3-0ad0d03f2ab0",
      "metadata": {
        "tags": [],
        "id": "653aee1d-29e1-44b8-bda3-0ad0d03f2ab0"
      },
      "source": [
        "There is also a info() method that shows basic information about the dataframe, such as number of rows/columns and data types of each column."
      ]
    },
    {
      "cell_type": "code",
      "execution_count": null,
      "id": "4a2afe27-b084-4ef1-88f9-88506a649477",
      "metadata": {
        "tags": [],
        "id": "4a2afe27-b084-4ef1-88f9-88506a649477",
        "outputId": "407dab43-1f39-41c3-ab33-b02115a07b73"
      },
      "outputs": [
        {
          "name": "stdout",
          "output_type": "stream",
          "text": [
            "<class 'pandas.core.frame.DataFrame'>\n",
            "RangeIndex: 13 entries, 0 to 12\n",
            "Data columns (total 2 columns):\n",
            " #   Column      Non-Null Count  Dtype \n",
            "---  ------      --------------  ----- \n",
            " 0   Mall Names  13 non-null     object\n",
            " 1   Address     13 non-null     object\n",
            "dtypes: object(2)\n",
            "memory usage: 336.0+ bytes\n"
          ]
        }
      ],
      "source": [
        "df.info()"
      ]
    },
    {
      "cell_type": "code",
      "execution_count": null,
      "id": "ef4819eb-d78c-4f31-bada-0be2369c564a",
      "metadata": {
        "tags": [],
        "id": "ef4819eb-d78c-4f31-bada-0be2369c564a"
      },
      "outputs": [],
      "source": [
        "from geopy.geocoders import Nominatim\n",
        "from geopy.extra.rate_limiter import RateLimiter\n",
        "# tip: https://towardsdatascience.com/geocode-with-python-161ec1e62b89\n",
        "# Using Nominatim Geocoding service\n",
        "\n",
        "locator = Nominatim(user_agent='myGeocoder')\n"
      ]
    },
    {
      "cell_type": "markdown",
      "id": "23bdd7b9-a60e-4c63-856a-04cc2114e815",
      "metadata": {
        "tags": [],
        "id": "23bdd7b9-a60e-4c63-856a-04cc2114e815"
      },
      "source": [
        "A function to delay geocoding calls is important because it helps prevent overloading the geocoding service with too many requests at once, which could result in errors or being temporarily blocked from accessing the service."
      ]
    },
    {
      "cell_type": "code",
      "execution_count": null,
      "id": "d36e4166-ee6b-4340-9529-35e019fd8be1",
      "metadata": {
        "tags": [],
        "id": "d36e4166-ee6b-4340-9529-35e019fd8be1"
      },
      "outputs": [],
      "source": [
        "# function to delay geocoding calls\n",
        "geocode_fn = RateLimiter(locator.geocode, min_delay_seconds=2)"
      ]
    },
    {
      "cell_type": "markdown",
      "id": "ca047521-a275-4b46-a4f8-06c26367a6da",
      "metadata": {
        "id": "ca047521-a275-4b46-a4f8-06c26367a6da"
      },
      "source": [
        "# Step 4: Use Geopy To Geocode Mall Addresses"
      ]
    },
    {
      "cell_type": "code",
      "execution_count": null,
      "id": "4307e81d-23be-4d16-ab43-cff32654ca10",
      "metadata": {
        "tags": [],
        "id": "4307e81d-23be-4d16-ab43-cff32654ca10",
        "outputId": "eb735d15-8310-4c17-f51a-29fa7eea8cde"
      },
      "outputs": [
        {
          "data": {
            "text/html": [
              "<div>\n",
              "<style scoped>\n",
              "    .dataframe tbody tr th:only-of-type {\n",
              "        vertical-align: middle;\n",
              "    }\n",
              "\n",
              "    .dataframe tbody tr th {\n",
              "        vertical-align: top;\n",
              "    }\n",
              "\n",
              "    .dataframe thead th {\n",
              "        text-align: right;\n",
              "    }\n",
              "</style>\n",
              "<table border=\"1\" class=\"dataframe\">\n",
              "  <thead>\n",
              "    <tr style=\"text-align: right;\">\n",
              "      <th></th>\n",
              "      <th>Mall Names</th>\n",
              "      <th>Address</th>\n",
              "      <th>coordinates</th>\n",
              "    </tr>\n",
              "  </thead>\n",
              "  <tbody>\n",
              "    <tr>\n",
              "      <th>0</th>\n",
              "      <td>Alamanda Shopping Centre</td>\n",
              "      <td>Jalan Alamanda, Presint 1, 62000 Putrajaya, Wi...</td>\n",
              "      <td>(Jalan Alamanda, Presint 1, Putrajaya, 62000, ...</td>\n",
              "    </tr>\n",
              "    <tr>\n",
              "      <th>1</th>\n",
              "      <td>IOI City Mall Putrajaya</td>\n",
              "      <td>XP96+VJ, IOI Resort, 43000 Seri Kembangan, Sel...</td>\n",
              "      <td>None</td>\n",
              "    </tr>\n",
              "    <tr>\n",
              "      <th>2</th>\n",
              "      <td>Suria Mall Putrajaya</td>\n",
              "      <td>Jalan Tun Abdul Razak, Presint 3, 62100 Putrajaya</td>\n",
              "      <td>None</td>\n",
              "    </tr>\n",
              "    <tr>\n",
              "      <th>3</th>\n",
              "      <td>D’Pulze Shopping Centre</td>\n",
              "      <td>Persiaran Multimedia, Cyberjaya, 63000 Cyberja...</td>\n",
              "      <td>(Persiaran Multimedia, Cyber 12, Cyberjaya, Se...</td>\n",
              "    </tr>\n",
              "    <tr>\n",
              "      <th>4</th>\n",
              "      <td>Gem In Mall</td>\n",
              "      <td>Persiaran Sepang, Cyber 11, 63000 Cyberjaya, S...</td>\n",
              "      <td>(Persiaran Sepang, Cyber 9, Cyberjaya, Sepang,...</td>\n",
              "    </tr>\n",
              "    <tr>\n",
              "      <th>5</th>\n",
              "      <td>Shaftsbury Square</td>\n",
              "      <td>Shaftsbury Square, Persiaran Multimedia, Cyber...</td>\n",
              "      <td>(Shaftsbury Square Shop &amp; Retail, Persiaran Mu...</td>\n",
              "    </tr>\n",
              "    <tr>\n",
              "      <th>6</th>\n",
              "      <td>Malakat Mall (formerly Centrus Mall)</td>\n",
              "      <td>Lingkaran Cyber Point Timur, Cyberjaya, 63000 ...</td>\n",
              "      <td>(Lingkaran Cyber Point Timur, Cyber 12, Cyberj...</td>\n",
              "    </tr>\n",
              "    <tr>\n",
              "      <th>7</th>\n",
              "      <td>Bangi Gateway</td>\n",
              "      <td>Seksyen 15, 43650 Bandar Baru Bangi, Selangor</td>\n",
              "      <td>(Seksyen 15, Bandar Baru Bangi, Majlis Perband...</td>\n",
              "    </tr>\n",
              "    <tr>\n",
              "      <th>8</th>\n",
              "      <td>De Centrum City</td>\n",
              "      <td>Jalan Ikram Uniten, 43000 Kajang, Selangor</td>\n",
              "      <td>None</td>\n",
              "    </tr>\n",
              "    <tr>\n",
              "      <th>9</th>\n",
              "      <td>Evo Bangi</td>\n",
              "      <td>Jalan Medan 2D, Seksyen 9, 43650 Bandar Baru B...</td>\n",
              "      <td>None</td>\n",
              "    </tr>\n",
              "    <tr>\n",
              "      <th>10</th>\n",
              "      <td>KIP Mall Bangi</td>\n",
              "      <td>Jalan Medan Bangi, Seksyen 6, 43650 Bandar Bar...</td>\n",
              "      <td>(Jalan Medan Bangi, Seksyen 16, Bandar Baru Ba...</td>\n",
              "    </tr>\n",
              "    <tr>\n",
              "      <th>11</th>\n",
              "      <td>Metro Point Kajang</td>\n",
              "      <td>Jalan Jelok Indah 9, Taman Jelok Indah, 43000 ...</td>\n",
              "      <td>None</td>\n",
              "    </tr>\n",
              "    <tr>\n",
              "      <th>12</th>\n",
              "      <td>Plaza Metro Kajang</td>\n",
              "      <td>Jalan Tun Abdul Aziz, Seksyen 1, 43000 Kajang,...</td>\n",
              "      <td>None</td>\n",
              "    </tr>\n",
              "  </tbody>\n",
              "</table>\n",
              "</div>"
            ],
            "text/plain": [
              "                              Mall Names  \\\n",
              "0               Alamanda Shopping Centre   \n",
              "1                IOI City Mall Putrajaya   \n",
              "2                   Suria Mall Putrajaya   \n",
              "3                D’Pulze Shopping Centre   \n",
              "4                            Gem In Mall   \n",
              "5                      Shaftsbury Square   \n",
              "6   Malakat Mall (formerly Centrus Mall)   \n",
              "7                          Bangi Gateway   \n",
              "8                        De Centrum City   \n",
              "9                              Evo Bangi   \n",
              "10                        KIP Mall Bangi   \n",
              "11                    Metro Point Kajang   \n",
              "12                    Plaza Metro Kajang   \n",
              "\n",
              "                                              Address  \\\n",
              "0   Jalan Alamanda, Presint 1, 62000 Putrajaya, Wi...   \n",
              "1   XP96+VJ, IOI Resort, 43000 Seri Kembangan, Sel...   \n",
              "2   Jalan Tun Abdul Razak, Presint 3, 62100 Putrajaya   \n",
              "3   Persiaran Multimedia, Cyberjaya, 63000 Cyberja...   \n",
              "4   Persiaran Sepang, Cyber 11, 63000 Cyberjaya, S...   \n",
              "5   Shaftsbury Square, Persiaran Multimedia, Cyber...   \n",
              "6   Lingkaran Cyber Point Timur, Cyberjaya, 63000 ...   \n",
              "7       Seksyen 15, 43650 Bandar Baru Bangi, Selangor   \n",
              "8          Jalan Ikram Uniten, 43000 Kajang, Selangor   \n",
              "9   Jalan Medan 2D, Seksyen 9, 43650 Bandar Baru B...   \n",
              "10  Jalan Medan Bangi, Seksyen 6, 43650 Bandar Bar...   \n",
              "11  Jalan Jelok Indah 9, Taman Jelok Indah, 43000 ...   \n",
              "12  Jalan Tun Abdul Aziz, Seksyen 1, 43000 Kajang,...   \n",
              "\n",
              "                                          coordinates  \n",
              "0   (Jalan Alamanda, Presint 1, Putrajaya, 62000, ...  \n",
              "1                                                None  \n",
              "2                                                None  \n",
              "3   (Persiaran Multimedia, Cyber 12, Cyberjaya, Se...  \n",
              "4   (Persiaran Sepang, Cyber 9, Cyberjaya, Sepang,...  \n",
              "5   (Shaftsbury Square Shop & Retail, Persiaran Mu...  \n",
              "6   (Lingkaran Cyber Point Timur, Cyber 12, Cyberj...  \n",
              "7   (Seksyen 15, Bandar Baru Bangi, Majlis Perband...  \n",
              "8                                                None  \n",
              "9                                                None  \n",
              "10  (Jalan Medan Bangi, Seksyen 16, Bandar Baru Ba...  \n",
              "11                                               None  \n",
              "12                                               None  "
            ]
          },
          "execution_count": 111,
          "metadata": {},
          "output_type": "execute_result"
        }
      ],
      "source": [
        "# Geocoding\n",
        "df['coordinates'] = df['Address'].apply(geocode_fn)\n",
        "df"
      ]
    },
    {
      "cell_type": "code",
      "execution_count": null,
      "id": "b5c17f6b-4168-4318-b67b-ad7a5f956f66",
      "metadata": {
        "tags": [],
        "id": "b5c17f6b-4168-4318-b67b-ad7a5f956f66",
        "outputId": "857ba9f7-279a-4ffb-86d1-22bdb7af813c"
      },
      "outputs": [
        {
          "data": {
            "text/plain": [
              "0     (Jalan Alamanda, Presint 1, Putrajaya, 62000, ...\n",
              "1                                                  None\n",
              "2                                                  None\n",
              "3     (Persiaran Multimedia, Cyber 12, Cyberjaya, Se...\n",
              "4     (Persiaran Sepang, Cyber 9, Cyberjaya, Sepang,...\n",
              "5     (Shaftsbury Square Shop & Retail, Persiaran Mu...\n",
              "6     (Lingkaran Cyber Point Timur, Cyber 12, Cyberj...\n",
              "7     (Seksyen 15, Bandar Baru Bangi, Majlis Perband...\n",
              "8                                                  None\n",
              "9                                                  None\n",
              "10    (Jalan Medan Bangi, Seksyen 16, Bandar Baru Ba...\n",
              "11                                                 None\n",
              "12                                                 None\n",
              "Name: coordinates, dtype: object"
            ]
          },
          "execution_count": 112,
          "metadata": {},
          "output_type": "execute_result"
        }
      ],
      "source": [
        "df.coordinates"
      ]
    },
    {
      "cell_type": "code",
      "execution_count": null,
      "id": "83206e41-be99-41b7-a625-64a91598f814",
      "metadata": {
        "tags": [],
        "id": "83206e41-be99-41b7-a625-64a91598f814",
        "outputId": "5f695f59-1b74-4887-ee38-bd077e654b4e"
      },
      "outputs": [
        {
          "data": {
            "text/plain": [
              "Location(Jalan Alamanda, Presint 1, Putrajaya, 62000, Malaysia, (2.9410142, 101.7122012, 0.0))"
            ]
          },
          "execution_count": 113,
          "metadata": {},
          "output_type": "execute_result"
        }
      ],
      "source": [
        "df.coordinates[0]"
      ]
    },
    {
      "cell_type": "code",
      "execution_count": null,
      "id": "5dbc5e47-e0dc-420d-b4a8-9b9370080067",
      "metadata": {
        "tags": [],
        "id": "5dbc5e47-e0dc-420d-b4a8-9b9370080067",
        "outputId": "c36ef501-5b55-45d3-f921-90ebb97b1391"
      },
      "outputs": [
        {
          "data": {
            "text/plain": [
              "2.9410142"
            ]
          },
          "execution_count": 114,
          "metadata": {},
          "output_type": "execute_result"
        }
      ],
      "source": [
        "df.coordinates[0].latitude"
      ]
    },
    {
      "cell_type": "code",
      "execution_count": null,
      "id": "f34cfea3-2170-49c1-8eae-1a9aaea0ec67",
      "metadata": {
        "tags": [],
        "id": "f34cfea3-2170-49c1-8eae-1a9aaea0ec67",
        "outputId": "65f7e9ed-92d7-4557-e3ab-67e0300eeeb4"
      },
      "outputs": [
        {
          "data": {
            "text/plain": [
              "101.7122012"
            ]
          },
          "execution_count": 115,
          "metadata": {},
          "output_type": "execute_result"
        }
      ],
      "source": [
        "df.coordinates[0].longitude"
      ]
    },
    {
      "cell_type": "markdown",
      "id": "d902288b-f631-474e-8045-2c1403dfa757",
      "metadata": {
        "id": "d902288b-f631-474e-8045-2c1403dfa757"
      },
      "source": [
        "Hereby, we add two column specifically for Latitude and Longitude"
      ]
    },
    {
      "cell_type": "code",
      "execution_count": null,
      "id": "5e7054e6-9e7d-4a75-891a-7a071314aa80",
      "metadata": {
        "tags": [],
        "id": "5e7054e6-9e7d-4a75-891a-7a071314aa80",
        "outputId": "92de741d-6504-4a11-93fd-d68f3a413c67"
      },
      "outputs": [
        {
          "data": {
            "text/html": [
              "<div>\n",
              "<style scoped>\n",
              "    .dataframe tbody tr th:only-of-type {\n",
              "        vertical-align: middle;\n",
              "    }\n",
              "\n",
              "    .dataframe tbody tr th {\n",
              "        vertical-align: top;\n",
              "    }\n",
              "\n",
              "    .dataframe thead th {\n",
              "        text-align: right;\n",
              "    }\n",
              "</style>\n",
              "<table border=\"1\" class=\"dataframe\">\n",
              "  <thead>\n",
              "    <tr style=\"text-align: right;\">\n",
              "      <th></th>\n",
              "      <th>Mall Names</th>\n",
              "      <th>Address</th>\n",
              "      <th>coordinates</th>\n",
              "      <th>Latitude</th>\n",
              "      <th>Longitude</th>\n",
              "    </tr>\n",
              "  </thead>\n",
              "  <tbody>\n",
              "    <tr>\n",
              "      <th>0</th>\n",
              "      <td>Alamanda Shopping Centre</td>\n",
              "      <td>Jalan Alamanda, Presint 1, 62000 Putrajaya, Wi...</td>\n",
              "      <td>(Jalan Alamanda, Presint 1, Putrajaya, 62000, ...</td>\n",
              "      <td>2.941014</td>\n",
              "      <td>101.712201</td>\n",
              "    </tr>\n",
              "    <tr>\n",
              "      <th>1</th>\n",
              "      <td>IOI City Mall Putrajaya</td>\n",
              "      <td>XP96+VJ, IOI Resort, 43000 Seri Kembangan, Sel...</td>\n",
              "      <td>None</td>\n",
              "      <td>NaN</td>\n",
              "      <td>NaN</td>\n",
              "    </tr>\n",
              "    <tr>\n",
              "      <th>2</th>\n",
              "      <td>Suria Mall Putrajaya</td>\n",
              "      <td>Jalan Tun Abdul Razak, Presint 3, 62100 Putrajaya</td>\n",
              "      <td>None</td>\n",
              "      <td>NaN</td>\n",
              "      <td>NaN</td>\n",
              "    </tr>\n",
              "    <tr>\n",
              "      <th>3</th>\n",
              "      <td>D’Pulze Shopping Centre</td>\n",
              "      <td>Persiaran Multimedia, Cyberjaya, 63000 Cyberja...</td>\n",
              "      <td>(Persiaran Multimedia, Cyber 12, Cyberjaya, Se...</td>\n",
              "      <td>2.921486</td>\n",
              "      <td>101.647333</td>\n",
              "    </tr>\n",
              "    <tr>\n",
              "      <th>4</th>\n",
              "      <td>Gem In Mall</td>\n",
              "      <td>Persiaran Sepang, Cyber 11, 63000 Cyberjaya, S...</td>\n",
              "      <td>(Persiaran Sepang, Cyber 9, Cyberjaya, Sepang,...</td>\n",
              "      <td>2.915851</td>\n",
              "      <td>101.634415</td>\n",
              "    </tr>\n",
              "    <tr>\n",
              "      <th>5</th>\n",
              "      <td>Shaftsbury Square</td>\n",
              "      <td>Shaftsbury Square, Persiaran Multimedia, Cyber...</td>\n",
              "      <td>(Shaftsbury Square Shop &amp; Retail, Persiaran Mu...</td>\n",
              "      <td>2.923262</td>\n",
              "      <td>101.660718</td>\n",
              "    </tr>\n",
              "    <tr>\n",
              "      <th>6</th>\n",
              "      <td>Malakat Mall (formerly Centrus Mall)</td>\n",
              "      <td>Lingkaran Cyber Point Timur, Cyberjaya, 63000 ...</td>\n",
              "      <td>(Lingkaran Cyber Point Timur, Cyber 12, Cyberj...</td>\n",
              "      <td>2.925146</td>\n",
              "      <td>101.649355</td>\n",
              "    </tr>\n",
              "    <tr>\n",
              "      <th>7</th>\n",
              "      <td>Bangi Gateway</td>\n",
              "      <td>Seksyen 15, 43650 Bandar Baru Bangi, Selangor</td>\n",
              "      <td>(Seksyen 15, Bandar Baru Bangi, Majlis Perband...</td>\n",
              "      <td>2.929863</td>\n",
              "      <td>101.768207</td>\n",
              "    </tr>\n",
              "    <tr>\n",
              "      <th>8</th>\n",
              "      <td>De Centrum City</td>\n",
              "      <td>Jalan Ikram Uniten, 43000 Kajang, Selangor</td>\n",
              "      <td>None</td>\n",
              "      <td>NaN</td>\n",
              "      <td>NaN</td>\n",
              "    </tr>\n",
              "    <tr>\n",
              "      <th>9</th>\n",
              "      <td>Evo Bangi</td>\n",
              "      <td>Jalan Medan 2D, Seksyen 9, 43650 Bandar Baru B...</td>\n",
              "      <td>None</td>\n",
              "      <td>NaN</td>\n",
              "      <td>NaN</td>\n",
              "    </tr>\n",
              "    <tr>\n",
              "      <th>10</th>\n",
              "      <td>KIP Mall Bangi</td>\n",
              "      <td>Jalan Medan Bangi, Seksyen 6, 43650 Bandar Bar...</td>\n",
              "      <td>(Jalan Medan Bangi, Seksyen 16, Bandar Baru Ba...</td>\n",
              "      <td>2.952677</td>\n",
              "      <td>101.756885</td>\n",
              "    </tr>\n",
              "    <tr>\n",
              "      <th>11</th>\n",
              "      <td>Metro Point Kajang</td>\n",
              "      <td>Jalan Jelok Indah 9, Taman Jelok Indah, 43000 ...</td>\n",
              "      <td>None</td>\n",
              "      <td>NaN</td>\n",
              "      <td>NaN</td>\n",
              "    </tr>\n",
              "    <tr>\n",
              "      <th>12</th>\n",
              "      <td>Plaza Metro Kajang</td>\n",
              "      <td>Jalan Tun Abdul Aziz, Seksyen 1, 43000 Kajang,...</td>\n",
              "      <td>None</td>\n",
              "      <td>NaN</td>\n",
              "      <td>NaN</td>\n",
              "    </tr>\n",
              "  </tbody>\n",
              "</table>\n",
              "</div>"
            ],
            "text/plain": [
              "                              Mall Names  \\\n",
              "0               Alamanda Shopping Centre   \n",
              "1                IOI City Mall Putrajaya   \n",
              "2                   Suria Mall Putrajaya   \n",
              "3                D’Pulze Shopping Centre   \n",
              "4                            Gem In Mall   \n",
              "5                      Shaftsbury Square   \n",
              "6   Malakat Mall (formerly Centrus Mall)   \n",
              "7                          Bangi Gateway   \n",
              "8                        De Centrum City   \n",
              "9                              Evo Bangi   \n",
              "10                        KIP Mall Bangi   \n",
              "11                    Metro Point Kajang   \n",
              "12                    Plaza Metro Kajang   \n",
              "\n",
              "                                              Address  \\\n",
              "0   Jalan Alamanda, Presint 1, 62000 Putrajaya, Wi...   \n",
              "1   XP96+VJ, IOI Resort, 43000 Seri Kembangan, Sel...   \n",
              "2   Jalan Tun Abdul Razak, Presint 3, 62100 Putrajaya   \n",
              "3   Persiaran Multimedia, Cyberjaya, 63000 Cyberja...   \n",
              "4   Persiaran Sepang, Cyber 11, 63000 Cyberjaya, S...   \n",
              "5   Shaftsbury Square, Persiaran Multimedia, Cyber...   \n",
              "6   Lingkaran Cyber Point Timur, Cyberjaya, 63000 ...   \n",
              "7       Seksyen 15, 43650 Bandar Baru Bangi, Selangor   \n",
              "8          Jalan Ikram Uniten, 43000 Kajang, Selangor   \n",
              "9   Jalan Medan 2D, Seksyen 9, 43650 Bandar Baru B...   \n",
              "10  Jalan Medan Bangi, Seksyen 6, 43650 Bandar Bar...   \n",
              "11  Jalan Jelok Indah 9, Taman Jelok Indah, 43000 ...   \n",
              "12  Jalan Tun Abdul Aziz, Seksyen 1, 43000 Kajang,...   \n",
              "\n",
              "                                          coordinates  Latitude   Longitude  \n",
              "0   (Jalan Alamanda, Presint 1, Putrajaya, 62000, ...  2.941014  101.712201  \n",
              "1                                                None       NaN         NaN  \n",
              "2                                                None       NaN         NaN  \n",
              "3   (Persiaran Multimedia, Cyber 12, Cyberjaya, Se...  2.921486  101.647333  \n",
              "4   (Persiaran Sepang, Cyber 9, Cyberjaya, Sepang,...  2.915851  101.634415  \n",
              "5   (Shaftsbury Square Shop & Retail, Persiaran Mu...  2.923262  101.660718  \n",
              "6   (Lingkaran Cyber Point Timur, Cyber 12, Cyberj...  2.925146  101.649355  \n",
              "7   (Seksyen 15, Bandar Baru Bangi, Majlis Perband...  2.929863  101.768207  \n",
              "8                                                None       NaN         NaN  \n",
              "9                                                None       NaN         NaN  \n",
              "10  (Jalan Medan Bangi, Seksyen 16, Bandar Baru Ba...  2.952677  101.756885  \n",
              "11                                               None       NaN         NaN  \n",
              "12                                               None       NaN         NaN  "
            ]
          },
          "execution_count": 116,
          "metadata": {},
          "output_type": "execute_result"
        }
      ],
      "source": [
        "df['Latitude']=df['coordinates'].apply(lambda x: x.latitude\n",
        "                                       if x != None else None)\n",
        "df['Longitude']=df['coordinates'].apply(lambda x: x.longitude\n",
        "                                        if x != None else None)\n",
        "df"
      ]
    },
    {
      "cell_type": "code",
      "execution_count": null,
      "id": "079eee2b-566b-40ed-a20f-610b1be6194b",
      "metadata": {
        "id": "079eee2b-566b-40ed-a20f-610b1be6194b",
        "outputId": "4b7c6410-b89c-47c4-ef5d-d0c6f09b6941"
      },
      "outputs": [
        {
          "data": {
            "text/html": [
              "<div>\n",
              "<style scoped>\n",
              "    .dataframe tbody tr th:only-of-type {\n",
              "        vertical-align: middle;\n",
              "    }\n",
              "\n",
              "    .dataframe tbody tr th {\n",
              "        vertical-align: top;\n",
              "    }\n",
              "\n",
              "    .dataframe thead th {\n",
              "        text-align: right;\n",
              "    }\n",
              "</style>\n",
              "<table border=\"1\" class=\"dataframe\">\n",
              "  <thead>\n",
              "    <tr style=\"text-align: right;\">\n",
              "      <th></th>\n",
              "      <th>Mall Names</th>\n",
              "      <th>Address</th>\n",
              "      <th>coordinates</th>\n",
              "      <th>Latitude</th>\n",
              "      <th>Longitude</th>\n",
              "    </tr>\n",
              "  </thead>\n",
              "  <tbody>\n",
              "    <tr>\n",
              "      <th>0</th>\n",
              "      <td>Alamanda Shopping Centre</td>\n",
              "      <td>Jalan Alamanda, Presint 1, 62000 Putrajaya, Wi...</td>\n",
              "      <td>(Jalan Alamanda, Presint 1, Putrajaya, 62000, ...</td>\n",
              "      <td>2.941014</td>\n",
              "      <td>101.712201</td>\n",
              "    </tr>\n",
              "    <tr>\n",
              "      <th>3</th>\n",
              "      <td>D’Pulze Shopping Centre</td>\n",
              "      <td>Persiaran Multimedia, Cyberjaya, 63000 Cyberja...</td>\n",
              "      <td>(Persiaran Multimedia, Cyber 12, Cyberjaya, Se...</td>\n",
              "      <td>2.921486</td>\n",
              "      <td>101.647333</td>\n",
              "    </tr>\n",
              "    <tr>\n",
              "      <th>4</th>\n",
              "      <td>Gem In Mall</td>\n",
              "      <td>Persiaran Sepang, Cyber 11, 63000 Cyberjaya, S...</td>\n",
              "      <td>(Persiaran Sepang, Cyber 9, Cyberjaya, Sepang,...</td>\n",
              "      <td>2.915851</td>\n",
              "      <td>101.634415</td>\n",
              "    </tr>\n",
              "    <tr>\n",
              "      <th>5</th>\n",
              "      <td>Shaftsbury Square</td>\n",
              "      <td>Shaftsbury Square, Persiaran Multimedia, Cyber...</td>\n",
              "      <td>(Shaftsbury Square Shop &amp; Retail, Persiaran Mu...</td>\n",
              "      <td>2.923262</td>\n",
              "      <td>101.660718</td>\n",
              "    </tr>\n",
              "    <tr>\n",
              "      <th>6</th>\n",
              "      <td>Malakat Mall (formerly Centrus Mall)</td>\n",
              "      <td>Lingkaran Cyber Point Timur, Cyberjaya, 63000 ...</td>\n",
              "      <td>(Lingkaran Cyber Point Timur, Cyber 12, Cyberj...</td>\n",
              "      <td>2.925146</td>\n",
              "      <td>101.649355</td>\n",
              "    </tr>\n",
              "    <tr>\n",
              "      <th>7</th>\n",
              "      <td>Bangi Gateway</td>\n",
              "      <td>Seksyen 15, 43650 Bandar Baru Bangi, Selangor</td>\n",
              "      <td>(Seksyen 15, Bandar Baru Bangi, Majlis Perband...</td>\n",
              "      <td>2.929863</td>\n",
              "      <td>101.768207</td>\n",
              "    </tr>\n",
              "    <tr>\n",
              "      <th>10</th>\n",
              "      <td>KIP Mall Bangi</td>\n",
              "      <td>Jalan Medan Bangi, Seksyen 6, 43650 Bandar Bar...</td>\n",
              "      <td>(Jalan Medan Bangi, Seksyen 16, Bandar Baru Ba...</td>\n",
              "      <td>2.952677</td>\n",
              "      <td>101.756885</td>\n",
              "    </tr>\n",
              "  </tbody>\n",
              "</table>\n",
              "</div>"
            ],
            "text/plain": [
              "                              Mall Names  \\\n",
              "0               Alamanda Shopping Centre   \n",
              "3                D’Pulze Shopping Centre   \n",
              "4                            Gem In Mall   \n",
              "5                      Shaftsbury Square   \n",
              "6   Malakat Mall (formerly Centrus Mall)   \n",
              "7                          Bangi Gateway   \n",
              "10                        KIP Mall Bangi   \n",
              "\n",
              "                                              Address  \\\n",
              "0   Jalan Alamanda, Presint 1, 62000 Putrajaya, Wi...   \n",
              "3   Persiaran Multimedia, Cyberjaya, 63000 Cyberja...   \n",
              "4   Persiaran Sepang, Cyber 11, 63000 Cyberjaya, S...   \n",
              "5   Shaftsbury Square, Persiaran Multimedia, Cyber...   \n",
              "6   Lingkaran Cyber Point Timur, Cyberjaya, 63000 ...   \n",
              "7       Seksyen 15, 43650 Bandar Baru Bangi, Selangor   \n",
              "10  Jalan Medan Bangi, Seksyen 6, 43650 Bandar Bar...   \n",
              "\n",
              "                                          coordinates  Latitude   Longitude  \n",
              "0   (Jalan Alamanda, Presint 1, Putrajaya, 62000, ...  2.941014  101.712201  \n",
              "3   (Persiaran Multimedia, Cyber 12, Cyberjaya, Se...  2.921486  101.647333  \n",
              "4   (Persiaran Sepang, Cyber 9, Cyberjaya, Sepang,...  2.915851  101.634415  \n",
              "5   (Shaftsbury Square Shop & Retail, Persiaran Mu...  2.923262  101.660718  \n",
              "6   (Lingkaran Cyber Point Timur, Cyber 12, Cyberj...  2.925146  101.649355  \n",
              "7   (Seksyen 15, Bandar Baru Bangi, Majlis Perband...  2.929863  101.768207  \n",
              "10  (Jalan Medan Bangi, Seksyen 16, Bandar Baru Ba...  2.952677  101.756885  "
            ]
          },
          "execution_count": 117,
          "metadata": {},
          "output_type": "execute_result"
        }
      ],
      "source": [
        "df = df[df['Latitude'].notnull()].copy()\n",
        "df"
      ]
    },
    {
      "cell_type": "markdown",
      "id": "ea1fe9eb-afc0-4a4c-b30c-91a9695f6e65",
      "metadata": {
        "id": "ea1fe9eb-afc0-4a4c-b30c-91a9695f6e65"
      },
      "source": [
        "# Step 5: Visualize the Data"
      ]
    },
    {
      "cell_type": "markdown",
      "id": "f481c43b-14ae-424a-bae9-632de8cb85ff",
      "metadata": {
        "id": "f481c43b-14ae-424a-bae9-632de8cb85ff"
      },
      "source": [
        "Once the coordinates have been obtained, I have used a mapping library such as Folium to plot the mall locations on a map."
      ]
    },
    {
      "cell_type": "code",
      "execution_count": null,
      "id": "b689b01a-1d8a-45fe-a8f2-f725ea0404e3",
      "metadata": {
        "tags": [],
        "id": "b689b01a-1d8a-45fe-a8f2-f725ea0404e3"
      },
      "outputs": [],
      "source": [
        "import os\n",
        "import folium"
      ]
    },
    {
      "cell_type": "code",
      "execution_count": null,
      "id": "1d7e0eb6-5ab9-4315-b028-c937fd019f17",
      "metadata": {
        "tags": [],
        "id": "1d7e0eb6-5ab9-4315-b028-c937fd019f17",
        "outputId": "671f2d99-9f2f-4d07-afb5-6a22fa2eb0f7"
      },
      "outputs": [
        {
          "data": {
            "text/html": [
              "<div style=\"width:100%;\"><div style=\"position:relative;width:100%;height:0;padding-bottom:60%;\"><span style=\"color:#565656\">Make this Notebook Trusted to load map: File -> Trust Notebook</span><iframe srcdoc=\"&lt;!DOCTYPE html&gt;\n",
              "&lt;head&gt;    \n",
              "    &lt;meta http-equiv=&quot;content-type&quot; content=&quot;text/html; charset=UTF-8&quot; /&gt;\n",
              "    \n",
              "        &lt;script&gt;\n",
              "            L_NO_TOUCH = false;\n",
              "            L_DISABLE_3D = false;\n",
              "        &lt;/script&gt;\n",
              "    \n",
              "    &lt;style&gt;html, body {width: 100%;height: 100%;margin: 0;padding: 0;}&lt;/style&gt;\n",
              "    &lt;style&gt;#map {position:absolute;top:0;bottom:0;right:0;left:0;}&lt;/style&gt;\n",
              "    &lt;script src=&quot;https://cdn.jsdelivr.net/npm/leaflet@1.6.0/dist/leaflet.js&quot;&gt;&lt;/script&gt;\n",
              "    &lt;script src=&quot;https://code.jquery.com/jquery-1.12.4.min.js&quot;&gt;&lt;/script&gt;\n",
              "    &lt;script src=&quot;https://maxcdn.bootstrapcdn.com/bootstrap/3.2.0/js/bootstrap.min.js&quot;&gt;&lt;/script&gt;\n",
              "    &lt;script src=&quot;https://cdnjs.cloudflare.com/ajax/libs/Leaflet.awesome-markers/2.0.2/leaflet.awesome-markers.js&quot;&gt;&lt;/script&gt;\n",
              "    &lt;link rel=&quot;stylesheet&quot; href=&quot;https://cdn.jsdelivr.net/npm/leaflet@1.6.0/dist/leaflet.css&quot;/&gt;\n",
              "    &lt;link rel=&quot;stylesheet&quot; href=&quot;https://maxcdn.bootstrapcdn.com/bootstrap/3.2.0/css/bootstrap.min.css&quot;/&gt;\n",
              "    &lt;link rel=&quot;stylesheet&quot; href=&quot;https://maxcdn.bootstrapcdn.com/bootstrap/3.2.0/css/bootstrap-theme.min.css&quot;/&gt;\n",
              "    &lt;link rel=&quot;stylesheet&quot; href=&quot;https://maxcdn.bootstrapcdn.com/font-awesome/4.6.3/css/font-awesome.min.css&quot;/&gt;\n",
              "    &lt;link rel=&quot;stylesheet&quot; href=&quot;https://cdnjs.cloudflare.com/ajax/libs/Leaflet.awesome-markers/2.0.2/leaflet.awesome-markers.css&quot;/&gt;\n",
              "    &lt;link rel=&quot;stylesheet&quot; href=&quot;https://cdn.jsdelivr.net/gh/python-visualization/folium/folium/templates/leaflet.awesome.rotate.min.css&quot;/&gt;\n",
              "    \n",
              "            &lt;meta name=&quot;viewport&quot; content=&quot;width=device-width,\n",
              "                initial-scale=1.0, maximum-scale=1.0, user-scalable=no&quot; /&gt;\n",
              "            &lt;style&gt;\n",
              "                #map_145015a900f775c66fcf4a8a5536153a {\n",
              "                    position: relative;\n",
              "                    width: 100.0%;\n",
              "                    height: 100.0%;\n",
              "                    left: 0.0%;\n",
              "                    top: 0.0%;\n",
              "                }\n",
              "            &lt;/style&gt;\n",
              "        \n",
              "&lt;/head&gt;\n",
              "&lt;body&gt;    \n",
              "    \n",
              "            &lt;div class=&quot;folium-map&quot; id=&quot;map_145015a900f775c66fcf4a8a5536153a&quot; &gt;&lt;/div&gt;\n",
              "        \n",
              "&lt;/body&gt;\n",
              "&lt;script&gt;    \n",
              "    \n",
              "            var map_145015a900f775c66fcf4a8a5536153a = L.map(\n",
              "                &quot;map_145015a900f775c66fcf4a8a5536153a&quot;,\n",
              "                {\n",
              "                    center: [0, 0],\n",
              "                    crs: L.CRS.EPSG3857,\n",
              "                    zoom: 1,\n",
              "                    zoomControl: true,\n",
              "                    preferCanvas: false,\n",
              "                }\n",
              "            );\n",
              "\n",
              "            \n",
              "\n",
              "        \n",
              "    \n",
              "            var tile_layer_89dc04384aaabfb7f018a15c36994545 = L.tileLayer(\n",
              "                &quot;https://{s}.tile.openstreetmap.org/{z}/{x}/{y}.png&quot;,\n",
              "                {&quot;attribution&quot;: &quot;Data by \\u0026copy; \\u003ca href=\\&quot;http://openstreetmap.org\\&quot;\\u003eOpenStreetMap\\u003c/a\\u003e, under \\u003ca href=\\&quot;http://www.openstreetmap.org/copyright\\&quot;\\u003eODbL\\u003c/a\\u003e.&quot;, &quot;detectRetina&quot;: false, &quot;maxNativeZoom&quot;: 18, &quot;maxZoom&quot;: 18, &quot;minZoom&quot;: 0, &quot;noWrap&quot;: false, &quot;opacity&quot;: 1, &quot;subdomains&quot;: &quot;abc&quot;, &quot;tms&quot;: false}\n",
              "            ).addTo(map_145015a900f775c66fcf4a8a5536153a);\n",
              "        \n",
              "&lt;/script&gt;\" style=\"position:absolute;width:100%;height:100%;left:0;top:0;border:none !important;\" allowfullscreen webkitallowfullscreen mozallowfullscreen></iframe></div></div>"
            ],
            "text/plain": [
              "<folium.folium.Map at 0x168d71640>"
            ]
          },
          "execution_count": 119,
          "metadata": {},
          "output_type": "execute_result"
        }
      ],
      "source": [
        "# Mapping using folium\n",
        "m = folium.Map()\n",
        "m"
      ]
    },
    {
      "cell_type": "code",
      "execution_count": null,
      "id": "d6e3fcd2-44c3-4a23-ae4a-2d276a3e30eb",
      "metadata": {
        "tags": [],
        "id": "d6e3fcd2-44c3-4a23-ae4a-2d276a3e30eb",
        "outputId": "725aac32-342e-4599-86f2-f5574296a918"
      },
      "outputs": [
        {
          "data": {
            "text/html": [
              "<iframe srcdoc=\"&lt;!DOCTYPE html&gt;\n",
              "&lt;head&gt;    \n",
              "    &lt;meta http-equiv=&quot;content-type&quot; content=&quot;text/html; charset=UTF-8&quot; /&gt;\n",
              "    \n",
              "        &lt;script&gt;\n",
              "            L_NO_TOUCH = false;\n",
              "            L_DISABLE_3D = false;\n",
              "        &lt;/script&gt;\n",
              "    \n",
              "    &lt;style&gt;html, body {width: 100%;height: 100%;margin: 0;padding: 0;}&lt;/style&gt;\n",
              "    &lt;style&gt;#map {position:absolute;top:0;bottom:0;right:0;left:0;}&lt;/style&gt;\n",
              "    &lt;script src=&quot;https://cdn.jsdelivr.net/npm/leaflet@1.6.0/dist/leaflet.js&quot;&gt;&lt;/script&gt;\n",
              "    &lt;script src=&quot;https://code.jquery.com/jquery-1.12.4.min.js&quot;&gt;&lt;/script&gt;\n",
              "    &lt;script src=&quot;https://maxcdn.bootstrapcdn.com/bootstrap/3.2.0/js/bootstrap.min.js&quot;&gt;&lt;/script&gt;\n",
              "    &lt;script src=&quot;https://cdnjs.cloudflare.com/ajax/libs/Leaflet.awesome-markers/2.0.2/leaflet.awesome-markers.js&quot;&gt;&lt;/script&gt;\n",
              "    &lt;link rel=&quot;stylesheet&quot; href=&quot;https://cdn.jsdelivr.net/npm/leaflet@1.6.0/dist/leaflet.css&quot;/&gt;\n",
              "    &lt;link rel=&quot;stylesheet&quot; href=&quot;https://maxcdn.bootstrapcdn.com/bootstrap/3.2.0/css/bootstrap.min.css&quot;/&gt;\n",
              "    &lt;link rel=&quot;stylesheet&quot; href=&quot;https://maxcdn.bootstrapcdn.com/bootstrap/3.2.0/css/bootstrap-theme.min.css&quot;/&gt;\n",
              "    &lt;link rel=&quot;stylesheet&quot; href=&quot;https://maxcdn.bootstrapcdn.com/font-awesome/4.6.3/css/font-awesome.min.css&quot;/&gt;\n",
              "    &lt;link rel=&quot;stylesheet&quot; href=&quot;https://cdnjs.cloudflare.com/ajax/libs/Leaflet.awesome-markers/2.0.2/leaflet.awesome-markers.css&quot;/&gt;\n",
              "    &lt;link rel=&quot;stylesheet&quot; href=&quot;https://cdn.jsdelivr.net/gh/python-visualization/folium/folium/templates/leaflet.awesome.rotate.min.css&quot;/&gt;\n",
              "    \n",
              "            &lt;meta name=&quot;viewport&quot; content=&quot;width=device-width,\n",
              "                initial-scale=1.0, maximum-scale=1.0, user-scalable=no&quot; /&gt;\n",
              "            &lt;style&gt;\n",
              "                #map_5ea90c92a66eacfc91442d9787642b2e {\n",
              "                    position: relative;\n",
              "                    width: 100.0%;\n",
              "                    height: 100.0%;\n",
              "                    left: 0.0%;\n",
              "                    top: 0.0%;\n",
              "                }\n",
              "            &lt;/style&gt;\n",
              "        \n",
              "&lt;/head&gt;\n",
              "&lt;body&gt;    \n",
              "    \n",
              "            &lt;div class=&quot;folium-map&quot; id=&quot;map_5ea90c92a66eacfc91442d9787642b2e&quot; &gt;&lt;/div&gt;\n",
              "        \n",
              "&lt;/body&gt;\n",
              "&lt;script&gt;    \n",
              "    \n",
              "            var map_5ea90c92a66eacfc91442d9787642b2e = L.map(\n",
              "                &quot;map_5ea90c92a66eacfc91442d9787642b2e&quot;,\n",
              "                {\n",
              "                    center: [2.9796, 101.7386],\n",
              "                    crs: L.CRS.EPSG3857,\n",
              "                    zoom: 15,\n",
              "                    zoomControl: true,\n",
              "                    preferCanvas: false,\n",
              "                }\n",
              "            );\n",
              "\n",
              "            \n",
              "\n",
              "        \n",
              "    \n",
              "            var tile_layer_047b58e9e19149b208410b897e5548cf = L.tileLayer(\n",
              "                &quot;https://{s}.tile.openstreetmap.org/{z}/{x}/{y}.png&quot;,\n",
              "                {&quot;attribution&quot;: &quot;Data by \\u0026copy; \\u003ca href=\\&quot;http://openstreetmap.org\\&quot;\\u003eOpenStreetMap\\u003c/a\\u003e, under \\u003ca href=\\&quot;http://www.openstreetmap.org/copyright\\&quot;\\u003eODbL\\u003c/a\\u003e.&quot;, &quot;detectRetina&quot;: false, &quot;maxNativeZoom&quot;: 18, &quot;maxZoom&quot;: 18, &quot;minZoom&quot;: 0, &quot;noWrap&quot;: false, &quot;opacity&quot;: 1, &quot;subdomains&quot;: &quot;abc&quot;, &quot;tms&quot;: false}\n",
              "            ).addTo(map_5ea90c92a66eacfc91442d9787642b2e);\n",
              "        \n",
              "&lt;/script&gt;\" width=\"800\" height=\"400\"style=\"border:none !important;\" \"allowfullscreen\" \"webkitallowfullscreen\" \"mozallowfullscreen\"></iframe>"
            ],
            "text/plain": [
              "<branca.element.Figure at 0x168d80850>"
            ]
          },
          "execution_count": 120,
          "metadata": {},
          "output_type": "execute_result"
        }
      ],
      "source": [
        "from folium import Figure\n",
        "fig = Figure(width=800, height=400)\n",
        "m = folium.Map(location=[2.9796, 101.7386], zoom_start=15)\n",
        "fig.add_child(m)"
      ]
    },
    {
      "cell_type": "code",
      "execution_count": null,
      "id": "10b254c8-e58b-40e0-befc-0db14dc90a1a",
      "metadata": {
        "tags": [],
        "id": "10b254c8-e58b-40e0-befc-0db14dc90a1a",
        "outputId": "65f7bc9f-e18d-4410-f50c-74f3d8b805fc"
      },
      "outputs": [
        {
          "data": {
            "text/html": [
              "<div style=\"width:100%;\"><div style=\"position:relative;width:100%;height:0;padding-bottom:60%;\"><span style=\"color:#565656\">Make this Notebook Trusted to load map: File -> Trust Notebook</span><iframe srcdoc=\"&lt;!DOCTYPE html&gt;\n",
              "&lt;head&gt;    \n",
              "    &lt;meta http-equiv=&quot;content-type&quot; content=&quot;text/html; charset=UTF-8&quot; /&gt;\n",
              "    \n",
              "        &lt;script&gt;\n",
              "            L_NO_TOUCH = false;\n",
              "            L_DISABLE_3D = false;\n",
              "        &lt;/script&gt;\n",
              "    \n",
              "    &lt;style&gt;html, body {width: 100%;height: 100%;margin: 0;padding: 0;}&lt;/style&gt;\n",
              "    &lt;style&gt;#map {position:absolute;top:0;bottom:0;right:0;left:0;}&lt;/style&gt;\n",
              "    &lt;script src=&quot;https://cdn.jsdelivr.net/npm/leaflet@1.6.0/dist/leaflet.js&quot;&gt;&lt;/script&gt;\n",
              "    &lt;script src=&quot;https://code.jquery.com/jquery-1.12.4.min.js&quot;&gt;&lt;/script&gt;\n",
              "    &lt;script src=&quot;https://maxcdn.bootstrapcdn.com/bootstrap/3.2.0/js/bootstrap.min.js&quot;&gt;&lt;/script&gt;\n",
              "    &lt;script src=&quot;https://cdnjs.cloudflare.com/ajax/libs/Leaflet.awesome-markers/2.0.2/leaflet.awesome-markers.js&quot;&gt;&lt;/script&gt;\n",
              "    &lt;link rel=&quot;stylesheet&quot; href=&quot;https://cdn.jsdelivr.net/npm/leaflet@1.6.0/dist/leaflet.css&quot;/&gt;\n",
              "    &lt;link rel=&quot;stylesheet&quot; href=&quot;https://maxcdn.bootstrapcdn.com/bootstrap/3.2.0/css/bootstrap.min.css&quot;/&gt;\n",
              "    &lt;link rel=&quot;stylesheet&quot; href=&quot;https://maxcdn.bootstrapcdn.com/bootstrap/3.2.0/css/bootstrap-theme.min.css&quot;/&gt;\n",
              "    &lt;link rel=&quot;stylesheet&quot; href=&quot;https://maxcdn.bootstrapcdn.com/font-awesome/4.6.3/css/font-awesome.min.css&quot;/&gt;\n",
              "    &lt;link rel=&quot;stylesheet&quot; href=&quot;https://cdnjs.cloudflare.com/ajax/libs/Leaflet.awesome-markers/2.0.2/leaflet.awesome-markers.css&quot;/&gt;\n",
              "    &lt;link rel=&quot;stylesheet&quot; href=&quot;https://cdn.jsdelivr.net/gh/python-visualization/folium/folium/templates/leaflet.awesome.rotate.min.css&quot;/&gt;\n",
              "    \n",
              "            &lt;meta name=&quot;viewport&quot; content=&quot;width=device-width,\n",
              "                initial-scale=1.0, maximum-scale=1.0, user-scalable=no&quot; /&gt;\n",
              "            &lt;style&gt;\n",
              "                #map_2e52be2611e7baa5a02f9ce6ff1693d6 {\n",
              "                    position: relative;\n",
              "                    width: 100.0%;\n",
              "                    height: 100.0%;\n",
              "                    left: 0.0%;\n",
              "                    top: 0.0%;\n",
              "                }\n",
              "            &lt;/style&gt;\n",
              "        \n",
              "&lt;/head&gt;\n",
              "&lt;body&gt;    \n",
              "    \n",
              "            &lt;div class=&quot;folium-map&quot; id=&quot;map_2e52be2611e7baa5a02f9ce6ff1693d6&quot; &gt;&lt;/div&gt;\n",
              "        \n",
              "&lt;/body&gt;\n",
              "&lt;script&gt;    \n",
              "    \n",
              "            var map_2e52be2611e7baa5a02f9ce6ff1693d6 = L.map(\n",
              "                &quot;map_2e52be2611e7baa5a02f9ce6ff1693d6&quot;,\n",
              "                {\n",
              "                    center: [2.9796, 101.7386],\n",
              "                    crs: L.CRS.EPSG3857,\n",
              "                    zoom: 10,\n",
              "                    zoomControl: true,\n",
              "                    preferCanvas: false,\n",
              "                }\n",
              "            );\n",
              "\n",
              "            \n",
              "\n",
              "        \n",
              "    \n",
              "            var tile_layer_607222c321fa52f1552678188b726879 = L.tileLayer(\n",
              "                &quot;https://stamen-tiles-{s}.a.ssl.fastly.net/toner/{z}/{x}/{y}.png&quot;,\n",
              "                {&quot;attribution&quot;: &quot;Map tiles by \\u003ca href=\\&quot;http://stamen.com\\&quot;\\u003eStamen Design\\u003c/a\\u003e, under \\u003ca href=\\&quot;http://creativecommons.org/licenses/by/3.0\\&quot;\\u003eCC BY 3.0\\u003c/a\\u003e. Data by \\u0026copy; \\u003ca href=\\&quot;http://openstreetmap.org\\&quot;\\u003eOpenStreetMap\\u003c/a\\u003e, under \\u003ca href=\\&quot;http://www.openstreetmap.org/copyright\\&quot;\\u003eODbL\\u003c/a\\u003e.&quot;, &quot;detectRetina&quot;: false, &quot;maxNativeZoom&quot;: 18, &quot;maxZoom&quot;: 18, &quot;minZoom&quot;: 0, &quot;noWrap&quot;: false, &quot;opacity&quot;: 1, &quot;subdomains&quot;: &quot;abc&quot;, &quot;tms&quot;: false}\n",
              "            ).addTo(map_2e52be2611e7baa5a02f9ce6ff1693d6);\n",
              "        \n",
              "    \n",
              "            var marker_0b6e1b3c454285b498038bc8ded35064 = L.marker(\n",
              "                [2.9410142, 101.7122012],\n",
              "                {}\n",
              "            ).addTo(map_2e52be2611e7baa5a02f9ce6ff1693d6);\n",
              "        \n",
              "    \n",
              "            var marker_ac6861a330a61dc4ffa3e881f8af2e86 = L.marker(\n",
              "                [2.9214856, 101.6473331],\n",
              "                {}\n",
              "            ).addTo(map_2e52be2611e7baa5a02f9ce6ff1693d6);\n",
              "        \n",
              "    \n",
              "            var marker_da06224c0013dbb89b4690d0115fd9ed = L.marker(\n",
              "                [2.9158508, 101.6344146],\n",
              "                {}\n",
              "            ).addTo(map_2e52be2611e7baa5a02f9ce6ff1693d6);\n",
              "        \n",
              "    \n",
              "            var marker_a9db2e149c1ffa34586fc02f3c24cad1 = L.marker(\n",
              "                [2.9232616499999997, 101.6607181736612],\n",
              "                {}\n",
              "            ).addTo(map_2e52be2611e7baa5a02f9ce6ff1693d6);\n",
              "        \n",
              "    \n",
              "            var marker_caf5013583870e5f623c80b4ffeee762 = L.marker(\n",
              "                [2.9251463, 101.6493545],\n",
              "                {}\n",
              "            ).addTo(map_2e52be2611e7baa5a02f9ce6ff1693d6);\n",
              "        \n",
              "    \n",
              "            var marker_eb74c477bd1064df5e3bb46424e488b9 = L.marker(\n",
              "                [2.9298626, 101.76820659952625],\n",
              "                {}\n",
              "            ).addTo(map_2e52be2611e7baa5a02f9ce6ff1693d6);\n",
              "        \n",
              "    \n",
              "            var marker_5443c64290613cff360965b868f5227b = L.marker(\n",
              "                [2.9526769, 101.7568848],\n",
              "                {}\n",
              "            ).addTo(map_2e52be2611e7baa5a02f9ce6ff1693d6);\n",
              "        \n",
              "&lt;/script&gt;\" style=\"position:absolute;width:100%;height:100%;left:0;top:0;border:none !important;\" allowfullscreen webkitallowfullscreen mozallowfullscreen></iframe></div></div>"
            ],
            "text/plain": [
              "<folium.folium.Map at 0x168d91c10>"
            ]
          },
          "execution_count": 121,
          "metadata": {},
          "output_type": "execute_result"
        }
      ],
      "source": [
        "my_map = folium.Map(\n",
        "    location=[2.9796, 101.7386],\n",
        "    tiles='Stamen Toner',\n",
        "    zoom_start=10)\n",
        "\n",
        "df.apply(lambda row:folium.Marker(location=[row['Latitude'], row['Longitude']]).add_to(my_map), axis=1)\n",
        "\n",
        "# Display Mall Location in MAP\n",
        "my_map\n"
      ]
    },
    {
      "cell_type": "markdown",
      "id": "11125f10-bdf3-43cc-b15e-f27e2468fe5c",
      "metadata": {
        "id": "11125f10-bdf3-43cc-b15e-f27e2468fe5c"
      },
      "source": [
        "## Conclusion"
      ]
    },
    {
      "cell_type": "markdown",
      "id": "6f8b2cc3-1bd9-405f-a563-dbb9bba7148f",
      "metadata": {
        "tags": [],
        "id": "6f8b2cc3-1bd9-405f-a563-dbb9bba7148f"
      },
      "source": [
        "Geocoding is an essential tool for businesses and marketers looking to understand the distribution of their target audience. By using Geopy to geocode mall addresses in Selangor, Malaysia, you can gain insights into the concentration and distribution of shopping malls in the region, helping you make informed decisions about your business strategy."
      ]
    },
    {
      "cell_type": "markdown",
      "id": "5317309b-2ae2-4b4a-9bfb-6597bf2ebc42",
      "metadata": {
        "id": "5317309b-2ae2-4b4a-9bfb-6597bf2ebc42"
      },
      "source": [
        "This is final project for the training about Python Foundation for Spatial Analysis which is  this instructor-led class by Ujaval Gandhi and TA Vigna."
      ]
    },
    {
      "cell_type": "markdown",
      "id": "979869e2-e221-4cff-88f6-777c307113f8",
      "metadata": {
        "tags": [],
        "id": "979869e2-e221-4cff-88f6-777c307113f8"
      },
      "source": [
        "Student Name: Abdillahi Osman Omar"
      ]
    },
    {
      "cell_type": "code",
      "execution_count": null,
      "id": "ee78d4e7-bd95-4564-95b2-4d43cf848069",
      "metadata": {
        "id": "ee78d4e7-bd95-4564-95b2-4d43cf848069"
      },
      "outputs": [],
      "source": []
    }
  ],
  "metadata": {
    "kernelspec": {
      "display_name": "Python 3 (ipykernel)",
      "language": "python",
      "name": "python3"
    },
    "language_info": {
      "codemirror_mode": {
        "name": "ipython",
        "version": 3
      },
      "file_extension": ".py",
      "mimetype": "text/x-python",
      "name": "python",
      "nbconvert_exporter": "python",
      "pygments_lexer": "ipython3",
      "version": "3.9.13"
    },
    "colab": {
      "provenance": [],
      "include_colab_link": true
    }
  },
  "nbformat": 4,
  "nbformat_minor": 5
}